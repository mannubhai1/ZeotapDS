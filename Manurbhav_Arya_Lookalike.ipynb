{
  "nbformat": 4,
  "nbformat_minor": 0,
  "metadata": {
    "colab": {
      "provenance": [],
      "gpuType": "T4"
    },
    "kernelspec": {
      "name": "python3",
      "display_name": "Python 3"
    },
    "language_info": {
      "name": "python"
    },
    "accelerator": "GPU"
  },
  "cells": [
    {
      "cell_type": "code",
      "execution_count": 10,
      "metadata": {
        "colab": {
          "base_uri": "https://localhost:8080/"
        },
        "id": "ypWG94teqtqJ",
        "outputId": "377cbadf-2cc4-4f1e-decf-63c983efed39"
      },
      "outputs": [
        {
          "output_type": "stream",
          "name": "stdout",
          "text": [
            "Lookalike model execution complete. Results saved to Lookalike.csv.\n"
          ]
        }
      ],
      "source": [
        "import pandas as pd\n",
        "from sklearn.preprocessing import OneHotEncoder\n",
        "from sklearn.metrics.pairwise import cosine_similarity\n",
        "import numpy as np\n",
        "\n",
        "# Load datasets\n",
        "customers = pd.read_csv(\"/content/Customers.csv\")\n",
        "products = pd.read_csv(\"/content/Products.csv\")\n",
        "transactions = pd.read_csv(\"/content/Transactions.csv\")\n",
        "\n",
        "# Merge datasets\n",
        "merged = transactions.merge(customers, on='CustomerID').merge(products, on='ProductID')\n",
        "\n",
        "# Feature engineering\n",
        "customer_features = merged.groupby('CustomerID').agg({\n",
        "    'TotalValue': 'sum',\n",
        "    'Quantity': 'sum',\n",
        "    'Region': 'first',\n",
        "    'Category': lambda x: x.mode()[0]  # Most frequent category\n",
        "}).reset_index()\n",
        "\n",
        "# One-hot encoding for categorical variables\n",
        "encoder = OneHotEncoder()\n",
        "categorical_features = encoder.fit_transform(customer_features[['Region', 'Category']]).toarray()\n",
        "numeric_features = customer_features[['TotalValue', 'Quantity']].values\n",
        "\n",
        "# Combine features\n",
        "final_features = np.hstack((numeric_features, categorical_features))\n",
        "\n",
        "# Compute similarity\n",
        "similarity_matrix = cosine_similarity(final_features)\n",
        "\n",
        "# Generate lookalikes\n",
        "customer_ids = customer_features['CustomerID'].tolist()\n",
        "lookalike_dict = {}\n",
        "\n",
        "for i, cust_id in enumerate(customer_ids[:20]):  # First 20 customers\n",
        "    similar_indices = np.argsort(similarity_matrix[i])[::-1][1:4]  # Top 3 excluding self\n",
        "    similar_customers = [(customer_ids[idx], similarity_matrix[i][idx]) for idx in similar_indices]\n",
        "    lookalike_dict[cust_id] = similar_customers\n",
        "\n",
        "# Save results to CSV\n",
        "lookalike_df = pd.DataFrame.from_dict(lookalike_dict, orient='index', columns=['Lookalike1', 'Lookalike2', 'Lookalike3'])\n",
        "lookalike_df.to_csv(\"/content/Lookalike.csv\")\n",
        "\n",
        "print(\"Lookalike model execution complete. Results saved to Lookalike.csv.\")\n"
      ]
    },
    {
      "cell_type": "markdown",
      "source": [
        "Description of Look Like Model :\n",
        "\"\"\"\n",
        "Lookalike Model for eCommerce Transactions\n",
        "\n",
        "This script processes customer transaction data to build a lookalike model that finds similar customers.\n",
        "It uses customer demographics, transaction history, and product preferences to compute customer similarity.\n",
        "The model applies cosine similarity to numerical and categorical features to recommend the top 3 most similar customers for each of the first 20 customers.\n",
        "\n",
        "### Steps:\n",
        "1. Load the datasets (Customers, Products, and Transactions).\n",
        "2. Merge transaction data with customer and product details.\n",
        "3. Perform feature engineering by aggregating transaction data per customer.\n",
        "4. Apply one-hot encoding to categorical variables (Region, Product Category).\n",
        "5. Compute cosine similarity between customers based on numerical and categorical features.\n",
        "6. Generate a lookalike list for the first 20 customers, recommending the top 3 most similar customers for each.\n",
        "7. Save the results as 'Lookalike.csv'.\n",
        "\n",
        "### Dependencies:\n",
        "- pandas\n",
        "- scikit-learn\n",
        "- numpy\n",
        "\n",
        "\"\"\""
      ],
      "metadata": {
        "id": "rUc8lrjf4UrO"
      }
    }
  ]
}